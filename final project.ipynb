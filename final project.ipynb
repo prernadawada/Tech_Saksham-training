{
 "cells": [
  {
   "cell_type": "code",
   "execution_count": 86,
   "id": "6c884bd9-fecf-4331-bbbe-9f2ecbd7725f",
   "metadata": {},
   "outputs": [],
   "source": [
    "import matplotlib.pyplot as plt\n",
    "import numpy as np\n",
    "import pandas as pd\n",
    "import seaborn as sns\n",
    "import warnings\n",
    "warnings.filterwarnings('ignore')"
   ]
  },
  {
   "cell_type": "code",
   "execution_count": 87,
   "id": "7bd5d088-cd22-4478-968f-20fd7b9aaaf4",
   "metadata": {},
   "outputs": [],
   "source": [
    "df=pd.read_csv(r\"C:\\Users\\prern\\Downloads\\archive (3)\\Students_Grading_Dataset.csv\")"
   ]
  },
  {
   "cell_type": "code",
   "execution_count": 88,
   "id": "5cbf2236-d1a7-4b2c-9d5a-7de01b783078",
   "metadata": {},
   "outputs": [
    {
     "data": {
      "text/html": [
       "<div>\n",
       "<style scoped>\n",
       "    .dataframe tbody tr th:only-of-type {\n",
       "        vertical-align: middle;\n",
       "    }\n",
       "\n",
       "    .dataframe tbody tr th {\n",
       "        vertical-align: top;\n",
       "    }\n",
       "\n",
       "    .dataframe thead th {\n",
       "        text-align: right;\n",
       "    }\n",
       "</style>\n",
       "<table border=\"1\" class=\"dataframe\">\n",
       "  <thead>\n",
       "    <tr style=\"text-align: right;\">\n",
       "      <th></th>\n",
       "      <th>Student_ID</th>\n",
       "      <th>First_Name</th>\n",
       "      <th>Last_Name</th>\n",
       "      <th>Email</th>\n",
       "      <th>Gender</th>\n",
       "      <th>Age</th>\n",
       "      <th>Department</th>\n",
       "      <th>Attendance (%)</th>\n",
       "      <th>Midterm_Score</th>\n",
       "      <th>Final_Score</th>\n",
       "      <th>...</th>\n",
       "      <th>Projects_Score</th>\n",
       "      <th>Total_Score</th>\n",
       "      <th>Grade</th>\n",
       "      <th>Study_Hours_per_Week</th>\n",
       "      <th>Extracurricular_Activities</th>\n",
       "      <th>Internet_Access_at_Home</th>\n",
       "      <th>Parent_Education_Level</th>\n",
       "      <th>Family_Income_Level</th>\n",
       "      <th>Stress_Level (1-10)</th>\n",
       "      <th>Sleep_Hours_per_Night</th>\n",
       "    </tr>\n",
       "  </thead>\n",
       "  <tbody>\n",
       "    <tr>\n",
       "      <th>0</th>\n",
       "      <td>S1000</td>\n",
       "      <td>Omar</td>\n",
       "      <td>Williams</td>\n",
       "      <td>student0@university.com</td>\n",
       "      <td>Female</td>\n",
       "      <td>22</td>\n",
       "      <td>Engineering</td>\n",
       "      <td>52.29</td>\n",
       "      <td>55.03</td>\n",
       "      <td>57.82</td>\n",
       "      <td>...</td>\n",
       "      <td>85.90</td>\n",
       "      <td>56.09</td>\n",
       "      <td>F</td>\n",
       "      <td>6.2</td>\n",
       "      <td>No</td>\n",
       "      <td>Yes</td>\n",
       "      <td>High School</td>\n",
       "      <td>Medium</td>\n",
       "      <td>5</td>\n",
       "      <td>4.7</td>\n",
       "    </tr>\n",
       "    <tr>\n",
       "      <th>1</th>\n",
       "      <td>S1001</td>\n",
       "      <td>Maria</td>\n",
       "      <td>Brown</td>\n",
       "      <td>student1@university.com</td>\n",
       "      <td>Male</td>\n",
       "      <td>18</td>\n",
       "      <td>Engineering</td>\n",
       "      <td>97.27</td>\n",
       "      <td>97.23</td>\n",
       "      <td>45.80</td>\n",
       "      <td>...</td>\n",
       "      <td>55.65</td>\n",
       "      <td>50.64</td>\n",
       "      <td>A</td>\n",
       "      <td>19.0</td>\n",
       "      <td>No</td>\n",
       "      <td>Yes</td>\n",
       "      <td>NaN</td>\n",
       "      <td>Medium</td>\n",
       "      <td>4</td>\n",
       "      <td>9.0</td>\n",
       "    </tr>\n",
       "    <tr>\n",
       "      <th>2</th>\n",
       "      <td>S1002</td>\n",
       "      <td>Ahmed</td>\n",
       "      <td>Jones</td>\n",
       "      <td>student2@university.com</td>\n",
       "      <td>Male</td>\n",
       "      <td>24</td>\n",
       "      <td>Business</td>\n",
       "      <td>57.19</td>\n",
       "      <td>67.05</td>\n",
       "      <td>93.68</td>\n",
       "      <td>...</td>\n",
       "      <td>73.79</td>\n",
       "      <td>70.30</td>\n",
       "      <td>D</td>\n",
       "      <td>20.7</td>\n",
       "      <td>No</td>\n",
       "      <td>Yes</td>\n",
       "      <td>Master's</td>\n",
       "      <td>Low</td>\n",
       "      <td>6</td>\n",
       "      <td>6.2</td>\n",
       "    </tr>\n",
       "    <tr>\n",
       "      <th>3</th>\n",
       "      <td>S1003</td>\n",
       "      <td>Omar</td>\n",
       "      <td>Williams</td>\n",
       "      <td>student3@university.com</td>\n",
       "      <td>Female</td>\n",
       "      <td>24</td>\n",
       "      <td>Mathematics</td>\n",
       "      <td>95.15</td>\n",
       "      <td>47.79</td>\n",
       "      <td>80.63</td>\n",
       "      <td>...</td>\n",
       "      <td>92.12</td>\n",
       "      <td>61.63</td>\n",
       "      <td>A</td>\n",
       "      <td>24.8</td>\n",
       "      <td>Yes</td>\n",
       "      <td>Yes</td>\n",
       "      <td>High School</td>\n",
       "      <td>High</td>\n",
       "      <td>3</td>\n",
       "      <td>6.7</td>\n",
       "    </tr>\n",
       "    <tr>\n",
       "      <th>4</th>\n",
       "      <td>S1004</td>\n",
       "      <td>John</td>\n",
       "      <td>Smith</td>\n",
       "      <td>student4@university.com</td>\n",
       "      <td>Female</td>\n",
       "      <td>23</td>\n",
       "      <td>CS</td>\n",
       "      <td>54.18</td>\n",
       "      <td>46.59</td>\n",
       "      <td>78.89</td>\n",
       "      <td>...</td>\n",
       "      <td>68.42</td>\n",
       "      <td>66.13</td>\n",
       "      <td>F</td>\n",
       "      <td>15.4</td>\n",
       "      <td>Yes</td>\n",
       "      <td>Yes</td>\n",
       "      <td>High School</td>\n",
       "      <td>High</td>\n",
       "      <td>2</td>\n",
       "      <td>7.1</td>\n",
       "    </tr>\n",
       "  </tbody>\n",
       "</table>\n",
       "<p>5 rows × 23 columns</p>\n",
       "</div>"
      ],
      "text/plain": [
       "  Student_ID First_Name Last_Name                    Email  Gender  Age  \\\n",
       "0      S1000       Omar  Williams  student0@university.com  Female   22   \n",
       "1      S1001      Maria     Brown  student1@university.com    Male   18   \n",
       "2      S1002      Ahmed     Jones  student2@university.com    Male   24   \n",
       "3      S1003       Omar  Williams  student3@university.com  Female   24   \n",
       "4      S1004       John     Smith  student4@university.com  Female   23   \n",
       "\n",
       "    Department  Attendance (%)  Midterm_Score  Final_Score  ...  \\\n",
       "0  Engineering           52.29          55.03        57.82  ...   \n",
       "1  Engineering           97.27          97.23        45.80  ...   \n",
       "2     Business           57.19          67.05        93.68  ...   \n",
       "3  Mathematics           95.15          47.79        80.63  ...   \n",
       "4           CS           54.18          46.59        78.89  ...   \n",
       "\n",
       "   Projects_Score  Total_Score  Grade  Study_Hours_per_Week  \\\n",
       "0           85.90        56.09      F                   6.2   \n",
       "1           55.65        50.64      A                  19.0   \n",
       "2           73.79        70.30      D                  20.7   \n",
       "3           92.12        61.63      A                  24.8   \n",
       "4           68.42        66.13      F                  15.4   \n",
       "\n",
       "   Extracurricular_Activities Internet_Access_at_Home  Parent_Education_Level  \\\n",
       "0                          No                     Yes             High School   \n",
       "1                          No                     Yes                     NaN   \n",
       "2                          No                     Yes                Master's   \n",
       "3                         Yes                     Yes             High School   \n",
       "4                         Yes                     Yes             High School   \n",
       "\n",
       "  Family_Income_Level Stress_Level (1-10) Sleep_Hours_per_Night  \n",
       "0              Medium                   5                   4.7  \n",
       "1              Medium                   4                   9.0  \n",
       "2                 Low                   6                   6.2  \n",
       "3                High                   3                   6.7  \n",
       "4                High                   2                   7.1  \n",
       "\n",
       "[5 rows x 23 columns]"
      ]
     },
     "execution_count": 88,
     "metadata": {},
     "output_type": "execute_result"
    }
   ],
   "source": [
    "df.head()"
   ]
  },
  {
   "cell_type": "code",
   "execution_count": 89,
   "id": "cb73c3c9-fc66-4b20-9978-798a09455e05",
   "metadata": {},
   "outputs": [
    {
     "data": {
      "text/plain": [
       "Index(['Student_ID', 'First_Name', 'Last_Name', 'Email', 'Gender', 'Age',\n",
       "       'Department', 'Attendance (%)', 'Midterm_Score', 'Final_Score',\n",
       "       'Assignments_Avg', 'Quizzes_Avg', 'Participation_Score',\n",
       "       'Projects_Score', 'Total_Score', 'Grade', 'Study_Hours_per_Week',\n",
       "       'Extracurricular_Activities', 'Internet_Access_at_Home',\n",
       "       'Parent_Education_Level', 'Family_Income_Level', 'Stress_Level (1-10)',\n",
       "       'Sleep_Hours_per_Night'],\n",
       "      dtype='object')"
      ]
     },
     "execution_count": 89,
     "metadata": {},
     "output_type": "execute_result"
    }
   ],
   "source": [
    "df.columns"
   ]
  },
  {
   "cell_type": "code",
   "execution_count": 90,
   "id": "8ad30043-8dff-472d-a05a-b6b22c29523a",
   "metadata": {},
   "outputs": [
    {
     "data": {
      "text/html": [
       "<div>\n",
       "<style scoped>\n",
       "    .dataframe tbody tr th:only-of-type {\n",
       "        vertical-align: middle;\n",
       "    }\n",
       "\n",
       "    .dataframe tbody tr th {\n",
       "        vertical-align: top;\n",
       "    }\n",
       "\n",
       "    .dataframe thead th {\n",
       "        text-align: right;\n",
       "    }\n",
       "</style>\n",
       "<table border=\"1\" class=\"dataframe\">\n",
       "  <thead>\n",
       "    <tr style=\"text-align: right;\">\n",
       "      <th></th>\n",
       "      <th>Age</th>\n",
       "      <th>Attendance (%)</th>\n",
       "      <th>Midterm_Score</th>\n",
       "      <th>Final_Score</th>\n",
       "      <th>Assignments_Avg</th>\n",
       "      <th>Quizzes_Avg</th>\n",
       "      <th>Participation_Score</th>\n",
       "      <th>Projects_Score</th>\n",
       "      <th>Total_Score</th>\n",
       "      <th>Study_Hours_per_Week</th>\n",
       "      <th>Stress_Level (1-10)</th>\n",
       "      <th>Sleep_Hours_per_Night</th>\n",
       "    </tr>\n",
       "  </thead>\n",
       "  <tbody>\n",
       "    <tr>\n",
       "      <th>count</th>\n",
       "      <td>5000.000000</td>\n",
       "      <td>4484.000000</td>\n",
       "      <td>5000.000000</td>\n",
       "      <td>5000.000000</td>\n",
       "      <td>4483.000000</td>\n",
       "      <td>5000.000000</td>\n",
       "      <td>5000.000000</td>\n",
       "      <td>5000.000000</td>\n",
       "      <td>5000.000000</td>\n",
       "      <td>5000.000000</td>\n",
       "      <td>5000.00000</td>\n",
       "      <td>5000.000000</td>\n",
       "    </tr>\n",
       "    <tr>\n",
       "      <th>mean</th>\n",
       "      <td>21.048400</td>\n",
       "      <td>75.431409</td>\n",
       "      <td>70.326844</td>\n",
       "      <td>69.640788</td>\n",
       "      <td>74.798673</td>\n",
       "      <td>74.910728</td>\n",
       "      <td>4.980024</td>\n",
       "      <td>74.924860</td>\n",
       "      <td>75.121804</td>\n",
       "      <td>17.658860</td>\n",
       "      <td>5.48080</td>\n",
       "      <td>6.488140</td>\n",
       "    </tr>\n",
       "    <tr>\n",
       "      <th>std</th>\n",
       "      <td>1.989786</td>\n",
       "      <td>14.372446</td>\n",
       "      <td>17.213209</td>\n",
       "      <td>17.238744</td>\n",
       "      <td>14.411799</td>\n",
       "      <td>14.504281</td>\n",
       "      <td>2.890136</td>\n",
       "      <td>14.423415</td>\n",
       "      <td>14.399941</td>\n",
       "      <td>7.275864</td>\n",
       "      <td>2.86155</td>\n",
       "      <td>1.452283</td>\n",
       "    </tr>\n",
       "    <tr>\n",
       "      <th>min</th>\n",
       "      <td>18.000000</td>\n",
       "      <td>50.010000</td>\n",
       "      <td>40.000000</td>\n",
       "      <td>40.000000</td>\n",
       "      <td>50.000000</td>\n",
       "      <td>50.030000</td>\n",
       "      <td>0.000000</td>\n",
       "      <td>50.010000</td>\n",
       "      <td>50.020000</td>\n",
       "      <td>5.000000</td>\n",
       "      <td>1.00000</td>\n",
       "      <td>4.000000</td>\n",
       "    </tr>\n",
       "    <tr>\n",
       "      <th>25%</th>\n",
       "      <td>19.000000</td>\n",
       "      <td>63.265000</td>\n",
       "      <td>55.457500</td>\n",
       "      <td>54.667500</td>\n",
       "      <td>62.090000</td>\n",
       "      <td>62.490000</td>\n",
       "      <td>2.440000</td>\n",
       "      <td>62.320000</td>\n",
       "      <td>62.835000</td>\n",
       "      <td>11.400000</td>\n",
       "      <td>3.00000</td>\n",
       "      <td>5.200000</td>\n",
       "    </tr>\n",
       "    <tr>\n",
       "      <th>50%</th>\n",
       "      <td>21.000000</td>\n",
       "      <td>75.725000</td>\n",
       "      <td>70.510000</td>\n",
       "      <td>69.735000</td>\n",
       "      <td>74.810000</td>\n",
       "      <td>74.695000</td>\n",
       "      <td>4.955000</td>\n",
       "      <td>74.980000</td>\n",
       "      <td>75.395000</td>\n",
       "      <td>17.500000</td>\n",
       "      <td>5.00000</td>\n",
       "      <td>6.500000</td>\n",
       "    </tr>\n",
       "    <tr>\n",
       "      <th>75%</th>\n",
       "      <td>23.000000</td>\n",
       "      <td>87.472500</td>\n",
       "      <td>84.970000</td>\n",
       "      <td>84.500000</td>\n",
       "      <td>86.970000</td>\n",
       "      <td>87.630000</td>\n",
       "      <td>7.500000</td>\n",
       "      <td>87.367500</td>\n",
       "      <td>87.652500</td>\n",
       "      <td>24.100000</td>\n",
       "      <td>8.00000</td>\n",
       "      <td>7.700000</td>\n",
       "    </tr>\n",
       "    <tr>\n",
       "      <th>max</th>\n",
       "      <td>24.000000</td>\n",
       "      <td>100.000000</td>\n",
       "      <td>99.980000</td>\n",
       "      <td>99.980000</td>\n",
       "      <td>99.980000</td>\n",
       "      <td>99.960000</td>\n",
       "      <td>10.000000</td>\n",
       "      <td>100.000000</td>\n",
       "      <td>99.990000</td>\n",
       "      <td>30.000000</td>\n",
       "      <td>10.00000</td>\n",
       "      <td>9.000000</td>\n",
       "    </tr>\n",
       "  </tbody>\n",
       "</table>\n",
       "</div>"
      ],
      "text/plain": [
       "               Age  Attendance (%)  Midterm_Score  Final_Score  \\\n",
       "count  5000.000000     4484.000000    5000.000000  5000.000000   \n",
       "mean     21.048400       75.431409      70.326844    69.640788   \n",
       "std       1.989786       14.372446      17.213209    17.238744   \n",
       "min      18.000000       50.010000      40.000000    40.000000   \n",
       "25%      19.000000       63.265000      55.457500    54.667500   \n",
       "50%      21.000000       75.725000      70.510000    69.735000   \n",
       "75%      23.000000       87.472500      84.970000    84.500000   \n",
       "max      24.000000      100.000000      99.980000    99.980000   \n",
       "\n",
       "       Assignments_Avg  Quizzes_Avg  Participation_Score  Projects_Score  \\\n",
       "count      4483.000000  5000.000000          5000.000000     5000.000000   \n",
       "mean         74.798673    74.910728             4.980024       74.924860   \n",
       "std          14.411799    14.504281             2.890136       14.423415   \n",
       "min          50.000000    50.030000             0.000000       50.010000   \n",
       "25%          62.090000    62.490000             2.440000       62.320000   \n",
       "50%          74.810000    74.695000             4.955000       74.980000   \n",
       "75%          86.970000    87.630000             7.500000       87.367500   \n",
       "max          99.980000    99.960000            10.000000      100.000000   \n",
       "\n",
       "       Total_Score  Study_Hours_per_Week  Stress_Level (1-10)  \\\n",
       "count  5000.000000           5000.000000           5000.00000   \n",
       "mean     75.121804             17.658860              5.48080   \n",
       "std      14.399941              7.275864              2.86155   \n",
       "min      50.020000              5.000000              1.00000   \n",
       "25%      62.835000             11.400000              3.00000   \n",
       "50%      75.395000             17.500000              5.00000   \n",
       "75%      87.652500             24.100000              8.00000   \n",
       "max      99.990000             30.000000             10.00000   \n",
       "\n",
       "       Sleep_Hours_per_Night  \n",
       "count            5000.000000  \n",
       "mean                6.488140  \n",
       "std                 1.452283  \n",
       "min                 4.000000  \n",
       "25%                 5.200000  \n",
       "50%                 6.500000  \n",
       "75%                 7.700000  \n",
       "max                 9.000000  "
      ]
     },
     "execution_count": 90,
     "metadata": {},
     "output_type": "execute_result"
    }
   ],
   "source": [
    "df.describe()"
   ]
  },
  {
   "cell_type": "code",
   "execution_count": 91,
   "id": "f84343e2-315a-45db-838b-faaa8cc8d212",
   "metadata": {},
   "outputs": [
    {
     "data": {
      "text/plain": [
       "Index(['Student_ID', 'First_Name', 'Last_Name', 'Email', 'Gender', 'Age',\n",
       "       'Department', 'Attendance (%)', 'Midterm_Score', 'Final_Score',\n",
       "       'Assignments_Avg', 'Quizzes_Avg', 'Participation_Score',\n",
       "       'Projects_Score', 'Total_Score', 'Grade', 'Study_Hours_per_Week',\n",
       "       'Extracurricular_Activities', 'Internet_Access_at_Home',\n",
       "       'Parent_Education_Level', 'Family_Income_Level', 'Stress_Level (1-10)',\n",
       "       'Sleep_Hours_per_Night'],\n",
       "      dtype='object')"
      ]
     },
     "execution_count": 91,
     "metadata": {},
     "output_type": "execute_result"
    }
   ],
   "source": [
    "df.columns"
   ]
  },
  {
   "cell_type": "code",
   "execution_count": 92,
   "id": "41cccc7b-13f7-432c-9d68-b2f9785164b0",
   "metadata": {},
   "outputs": [
    {
     "data": {
      "image/png": "[encoded data removed]",
      "text/plain": [
       "<Figure size 1400x800 with 1 Axes>"
      ]
     },
     "metadata": {},
     "output_type": "display_data"
    }
   ],
   "source": [
    "plt.figure(figsize=(14,8))\n",
    "plt.scatter(df['Student_ID'],df['First_Name'])\n",
    "plt.xlabel(\"Student_ID\")\n",
    "plt.ylabel(\"First_Name\")\n",
    "plt.show()"
   ]
  },
  {
   "cell_type": "code",
   "execution_count": 93,
   "id": "8f7e8a42-954e-4d07-8246-e4a5e458d42c",
   "metadata": {},
   "outputs": [],
   "source": [
    "def bar_plot(variable):\n",
    "    var=df[variable]\n",
    "    varValue=var.value_counts()\n",
    "    plt.figure(figsize=(14,8))\n",
    "    plt.bar(varValue.index,varValue)\n",
    "    plt.xticks(varValue.index,varValue.index.values)\n",
    "    plt.ylabel(\"Frequency\")\n",
    "    plt.title(variable)\n",
    "    plt.show()\n",
    "    print(\"{}: \\n {}\".format(variable,varValue))"
   ]
  },
  {
   "cell_type": "code",
   "execution_count": 94,
   "id": "c4d26716-3e1c-4a8f-9d4a-548eab32849c",
   "metadata": {},
   "outputs": [
    {
     "data": {
      "text/plain": [
       "Index(['Student_ID', 'First_Name', 'Last_Name', 'Email', 'Gender', 'Age',\n",
       "       'Department', 'Attendance (%)', 'Midterm_Score', 'Final_Score',\n",
       "       'Assignments_Avg', 'Quizzes_Avg', 'Participation_Score',\n",
       "       'Projects_Score', 'Total_Score', 'Grade', 'Study_Hours_per_Week',\n",
       "       'Extracurricular_Activities', 'Internet_Access_at_Home',\n",
       "       'Parent_Education_Level', 'Family_Income_Level', 'Stress_Level (1-10)',\n",
       "       'Sleep_Hours_per_Night'],\n",
       "      dtype='object')"
      ]
     },
     "execution_count": 94,
     "metadata": {},
     "output_type": "execute_result"
    }
   ],
   "source": [
    "df.columns"
   ]
  },
  {
   "cell_type": "code",
   "execution_count": 95,
   "id": "71a4c76e-e92c-4dea-9fbf-597a7e1b638d",
   "metadata": {
    "scrolled": true
   },
   "outputs": [
    {
     "data": {
      "image/png": "[encoded data removed]",
      "text/plain": [
       "<Figure size 1400x800 with 1 Axes>"
      ]
     },
     "metadata": {},
     "output_type": "display_data"
    },
    {
     "name": "stdout",
     "output_type": "stream",
     "text": [
      "First_Name: \n",
      " First_Name\n",
      "Maria    657\n",
      "Ahmed    651\n",
      "Ali      644\n",
      "Emma     628\n",
      "Sara     612\n",
      "John     608\n",
      "Omar     601\n",
      "Liam     599\n",
      "Name: count, dtype: int64\n"
     ]
    }
   ],
   "source": [
    "columns_plot=['First_Name']\n",
    "for i in columns_plot:\n",
    " bar_plot(i)"
   ]
  },
  {
   "cell_type": "code",
   "execution_count": 96,
   "id": "f9eb7f39-26cb-49b0-ad96-be509c1f7d59",
   "metadata": {},
   "outputs": [
    {
     "data": {
      "image/png": "[encoded data removed]",
      "text/plain": [
       "<Figure size 640x480 with 1 Axes>"
      ]
     },
     "metadata": {},
     "output_type": "display_data"
    }
   ],
   "source": [
    "plt.hist(df['Student_ID'])\n",
    "plt.show()"
   ]
  },
  {
   "cell_type": "code",
   "execution_count": 97,
   "id": "efb2bba2-6e5b-4975-8bfe-3f83a9d2d938",
   "metadata": {},
   "outputs": [
    {
     "data": {
      "text/plain": [
       "Index(['Student_ID', 'First_Name', 'Last_Name', 'Email', 'Gender', 'Age',\n",
       "       'Department', 'Attendance (%)', 'Midterm_Score', 'Final_Score',\n",
       "       'Assignments_Avg', 'Quizzes_Avg', 'Participation_Score',\n",
       "       'Projects_Score', 'Total_Score', 'Grade', 'Study_Hours_per_Week',\n",
       "       'Extracurricular_Activities', 'Internet_Access_at_Home',\n",
       "       'Parent_Education_Level', 'Family_Income_Level', 'Stress_Level (1-10)',\n",
       "       'Sleep_Hours_per_Night'],\n",
       "      dtype='object')"
      ]
     },
     "execution_count": 97,
     "metadata": {},
     "output_type": "execute_result"
    }
   ],
   "source": [
    "df.columns"
   ]
  },
  {
   "cell_type": "code",
   "execution_count": 98,
   "id": "e9f90af4-0711-4cad-a8c6-cffc452ab97a",
   "metadata": {},
   "outputs": [
    {
     "data": {
      "text/html": [
       "<div>\n",
       "<style scoped>\n",
       "    .dataframe tbody tr th:only-of-type {\n",
       "        vertical-align: middle;\n",
       "    }\n",
       "\n",
       "    .dataframe tbody tr th {\n",
       "        vertical-align: top;\n",
       "    }\n",
       "\n",
       "    .dataframe thead th {\n",
       "        text-align: right;\n",
       "    }\n",
       "</style>\n",
       "<table border=\"1\" class=\"dataframe\">\n",
       "  <thead>\n",
       "    <tr style=\"text-align: right;\">\n",
       "      <th></th>\n",
       "      <th>Student_ID</th>\n",
       "      <th>Age</th>\n",
       "    </tr>\n",
       "  </thead>\n",
       "  <tbody>\n",
       "    <tr>\n",
       "      <th>0</th>\n",
       "      <td>S1000</td>\n",
       "      <td>1</td>\n",
       "    </tr>\n",
       "    <tr>\n",
       "      <th>3330</th>\n",
       "      <td>S4330</td>\n",
       "      <td>1</td>\n",
       "    </tr>\n",
       "    <tr>\n",
       "      <th>3337</th>\n",
       "      <td>S4337</td>\n",
       "      <td>1</td>\n",
       "    </tr>\n",
       "    <tr>\n",
       "      <th>3336</th>\n",
       "      <td>S4336</td>\n",
       "      <td>1</td>\n",
       "    </tr>\n",
       "    <tr>\n",
       "      <th>3335</th>\n",
       "      <td>S4335</td>\n",
       "      <td>1</td>\n",
       "    </tr>\n",
       "    <tr>\n",
       "      <th>...</th>\n",
       "      <td>...</td>\n",
       "      <td>...</td>\n",
       "    </tr>\n",
       "    <tr>\n",
       "      <th>1666</th>\n",
       "      <td>S2666</td>\n",
       "      <td>1</td>\n",
       "    </tr>\n",
       "    <tr>\n",
       "      <th>1665</th>\n",
       "      <td>S2665</td>\n",
       "      <td>1</td>\n",
       "    </tr>\n",
       "    <tr>\n",
       "      <th>1664</th>\n",
       "      <td>S2664</td>\n",
       "      <td>1</td>\n",
       "    </tr>\n",
       "    <tr>\n",
       "      <th>1663</th>\n",
       "      <td>S2663</td>\n",
       "      <td>1</td>\n",
       "    </tr>\n",
       "    <tr>\n",
       "      <th>4999</th>\n",
       "      <td>S5999</td>\n",
       "      <td>1</td>\n",
       "    </tr>\n",
       "  </tbody>\n",
       "</table>\n",
       "<p>5000 rows × 2 columns</p>\n",
       "</div>"
      ],
      "text/plain": [
       "     Student_ID  Age\n",
       "0         S1000    1\n",
       "3330      S4330    1\n",
       "3337      S4337    1\n",
       "3336      S4336    1\n",
       "3335      S4335    1\n",
       "...         ...  ...\n",
       "1666      S2666    1\n",
       "1665      S2665    1\n",
       "1664      S2664    1\n",
       "1663      S2663    1\n",
       "4999      S5999    1\n",
       "\n",
       "[5000 rows x 2 columns]"
      ]
     },
     "execution_count": 98,
     "metadata": {},
     "output_type": "execute_result"
    }
   ],
   "source": [
    "df[['Student_ID','Age']].groupby(['Student_ID'],as_index=False).count().sort_values(by='Age',ascending=False)"
   ]
  },
  {
   "cell_type": "code",
   "execution_count": 99,
   "id": "e3b5f045-4716-455f-b5cd-a12133c8ef71",
   "metadata": {},
   "outputs": [
    {
     "data": {
      "text/html": [
       "<div>\n",
       "<style scoped>\n",
       "    .dataframe tbody tr th:only-of-type {\n",
       "        vertical-align: middle;\n",
       "    }\n",
       "\n",
       "    .dataframe tbody tr th {\n",
       "        vertical-align: top;\n",
       "    }\n",
       "\n",
       "    .dataframe thead th {\n",
       "        text-align: right;\n",
       "    }\n",
       "</style>\n",
       "<table border=\"1\" class=\"dataframe\">\n",
       "  <thead>\n",
       "    <tr style=\"text-align: right;\">\n",
       "      <th></th>\n",
       "      <th>Student_ID</th>\n",
       "      <th>Final_Score</th>\n",
       "    </tr>\n",
       "  </thead>\n",
       "  <tbody>\n",
       "    <tr>\n",
       "      <th>0</th>\n",
       "      <td>S1000</td>\n",
       "      <td>1</td>\n",
       "    </tr>\n",
       "    <tr>\n",
       "      <th>3330</th>\n",
       "      <td>S4330</td>\n",
       "      <td>1</td>\n",
       "    </tr>\n",
       "    <tr>\n",
       "      <th>3337</th>\n",
       "      <td>S4337</td>\n",
       "      <td>1</td>\n",
       "    </tr>\n",
       "    <tr>\n",
       "      <th>3336</th>\n",
       "      <td>S4336</td>\n",
       "      <td>1</td>\n",
       "    </tr>\n",
       "    <tr>\n",
       "      <th>3335</th>\n",
       "      <td>S4335</td>\n",
       "      <td>1</td>\n",
       "    </tr>\n",
       "    <tr>\n",
       "      <th>...</th>\n",
       "      <td>...</td>\n",
       "      <td>...</td>\n",
       "    </tr>\n",
       "    <tr>\n",
       "      <th>1666</th>\n",
       "      <td>S2666</td>\n",
       "      <td>1</td>\n",
       "    </tr>\n",
       "    <tr>\n",
       "      <th>1665</th>\n",
       "      <td>S2665</td>\n",
       "      <td>1</td>\n",
       "    </tr>\n",
       "    <tr>\n",
       "      <th>1664</th>\n",
       "      <td>S2664</td>\n",
       "      <td>1</td>\n",
       "    </tr>\n",
       "    <tr>\n",
       "      <th>1663</th>\n",
       "      <td>S2663</td>\n",
       "      <td>1</td>\n",
       "    </tr>\n",
       "    <tr>\n",
       "      <th>4999</th>\n",
       "      <td>S5999</td>\n",
       "      <td>1</td>\n",
       "    </tr>\n",
       "  </tbody>\n",
       "</table>\n",
       "<p>5000 rows × 2 columns</p>\n",
       "</div>"
      ],
      "text/plain": [
       "     Student_ID  Final_Score\n",
       "0         S1000            1\n",
       "3330      S4330            1\n",
       "3337      S4337            1\n",
       "3336      S4336            1\n",
       "3335      S4335            1\n",
       "...         ...          ...\n",
       "1666      S2666            1\n",
       "1665      S2665            1\n",
       "1664      S2664            1\n",
       "1663      S2663            1\n",
       "4999      S5999            1\n",
       "\n",
       "[5000 rows x 2 columns]"
      ]
     },
     "execution_count": 99,
     "metadata": {},
     "output_type": "execute_result"
    }
   ],
   "source": [
    "df[['Student_ID','Final_Score']].groupby(['Student_ID'],as_index=False).count().sort_values(by='Final_Score',ascending=False)"
   ]
  },
  {
   "cell_type": "code",
   "execution_count": 100,
   "id": "daf4be33-d709-4130-8df2-f901700143bc",
   "metadata": {},
   "outputs": [
    {
     "data": {
      "text/plain": [
       "<Axes: ylabel='Final_Score'>"
      ]
     },
     "execution_count": 100,
     "metadata": {},
     "output_type": "execute_result"
    },
    {
     "data": {
      "image/png": "[encoded data removed]",
      "text/plain": [
       "<Figure size 640x480 with 1 Axes>"
      ]
     },
     "metadata": {},
     "output_type": "display_data"
    }
   ],
   "source": [
    "sns.boxplot(df['Final_Score'])"
   ]
  },
  {
   "cell_type": "code",
   "execution_count": null,
   "id": "87802908-b244-4bfb-9729-00d0f6fb2507",
   "metadata": {},
   "outputs": [],
   "source": [
    "sns.boxplot(df['Midterm_Score'])"
   ]
  },
  {
   "cell_type": "code",
   "execution_count": null,
   "id": "987afae8-a7e5-4391-a900-0b9cb0d2a233",
   "metadata": {},
   "outputs": [],
   "source": [
    "df['Final_Score'] = pd.to_numeric(df['Final_Score'], errors='coerce')"
   ]
  },
  {
   "cell_type": "code",
   "execution_count": null,
   "id": "b7c02184-01fc-4916-801b-9cce5221975d",
   "metadata": {},
   "outputs": [],
   "source": [
    "df['Final_Score']=df['Final_Score'].fillna(df['Final_Score'].median())"
   ]
  },
  {
   "cell_type": "code",
   "execution_count": null,
   "id": "f4329820-fb23-4dcc-80cd-8a6b3db8c249",
   "metadata": {},
   "outputs": [],
   "source": [
    "df['Final_Score'] = pd.to_numeric(df['Final_Score'], errors='coerce')\n",
    "df['Final_Score']=df['Final_Score'].fillna(df['Final_Score'].median())"
   ]
  },
  {
   "cell_type": "code",
   "execution_count": null,
   "id": "ee0d2c8c-1e22-419f-878a-f72a64c7fd95",
   "metadata": {},
   "outputs": [],
   "source": [
    "df.isnull().sum()"
   ]
  },
  {
   "cell_type": "code",
   "execution_count": null,
   "id": "179b36c5-a053-43d5-8a83-06b4080a8e08",
   "metadata": {},
   "outputs": [],
   "source": [
    "df['Final_Score'].mode()"
   ]
  },
  {
   "cell_type": "code",
   "execution_count": null,
   "id": "065abaa6-407b-475f-b5c5-ced776270330",
   "metadata": {},
   "outputs": [],
   "source": [
    "df['Final_Score']=df['Final_Score'].fillna(df['Final_Score'].mode()[0])"
   ]
  },
  {
   "cell_type": "code",
   "execution_count": null,
   "id": "7ab74a57-aae2-4f3b-9bd4-b8345ef7635a",
   "metadata": {},
   "outputs": [],
   "source": [
    "df.isna().sum()"
   ]
  },
  {
   "cell_type": "code",
   "execution_count": null,
   "id": "ef50fcf8-fe4f-431f-a94d-5100f15fb5a1",
   "metadata": {},
   "outputs": [],
   "source": [
    "df.columns"
   ]
  },
  {
   "cell_type": "code",
   "execution_count": null,
   "id": "8426222a-4d0f-4b48-ac58-585f92b5b5d5",
   "metadata": {},
   "outputs": [],
   "source": [
    "df.drop(labels=['Student_ID', 'First_Name', 'Last_Name', 'Email', 'Gender', 'Age'],axis=1,inplace=True)"
   ]
  },
  {
   "cell_type": "code",
   "execution_count": null,
   "id": "5c0ec2ac-3cb7-4b17-8343-d1f1832335d5",
   "metadata": {},
   "outputs": [],
   "source": [
    "df.drop"
   ]
  },
  {
   "cell_type": "code",
   "execution_count": null,
   "id": "551d2150-519e-41c3-b110-7db711bb226e",
   "metadata": {},
   "outputs": [],
   "source": []
  },
  {
   "cell_type": "code",
   "execution_count": null,
   "id": "afc17914-bcad-4ba7-91cd-0d6b80eccea8",
   "metadata": {},
   "outputs": [],
   "source": []
  },
  {
   "cell_type": "code",
   "execution_count": null,
   "id": "36454c96-b8f8-4bfb-b219-2a371c9f7bfb",
   "metadata": {},
   "outputs": [],
   "source": []
  },
  {
   "cell_type": "code",
   "execution_count": null,
   "id": "87c1df4c-57c5-4a79-9c9f-923556fda80e",
   "metadata": {},
   "outputs": [],
   "source": []
  }
 ],
 "metadata": {
  "kernelspec": {
   "display_name": "Python 3 (ipykernel)",
   "language": "python",
   "name": "python3"
  },
  "language_info": {
   "codemirror_mode": {
    "name": "ipython",
    "version": 3
   },
   "file_extension": ".py",
   "mimetype": "text/x-python",
   "name": "python",
   "nbconvert_exporter": "python",
   "pygments_lexer": "ipython3",
   "version": "3.12.7"
  }
 },
 "nbformat": 4,
 "nbformat_minor": 5
}
